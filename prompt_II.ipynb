{
 "cells": [
  {
   "cell_type": "markdown",
   "metadata": {},
   "source": [
    "# What drives the price of a car?\n",
    "\n",
    "![](images/kurt.jpeg)"
   ]
  },
  {
   "cell_type": "markdown",
   "metadata": {},
   "source": [
    "**OVERVIEW**\n",
    "\n",
    "In this application, you will explore a dataset from Kaggle. The original dataset contained information on 3 million used cars. The provided dataset contains information on 426K cars to ensure speed of processing.  Your goal is to understand what factors make a car more or less expensive.  As a result of your analysis, you should provide clear recommendations to your client -- a used car dealership -- as to what consumers value in a used car."
   ]
  },
  {
   "cell_type": "markdown",
   "metadata": {},
   "source": [
    "### CRISP-DM Framework\n",
    "\n",
    "<center>\n",
    "    <img src = images/crisp.png width = 50%/>\n",
    "</center>\n",
    "\n",
    "\n",
    "To frame the task, throughout our practical applications, we will refer back to a standard process in industry for data projects called CRISP-DM.  This process provides a framework for working through a data problem.  Your first step in this application will be to read through a brief overview of CRISP-DM [here](https://mo-pcco.s3.us-east-1.amazonaws.com/BH-PCMLAI/module_11/readings_starter.zip).  After reading the overview, answer the questions below."
   ]
  },
  {
   "cell_type": "markdown",
   "metadata": {},
   "source": [
    "### Business Understanding\n",
    "\n",
    "From a business perspective, we are tasked with identifying key drivers for used car prices.  In the CRISP-DM overview, we are asked to convert this business framing to a data problem definition.  Using a few sentences, reframe the task as a data task with the appropriate technical vocabulary. "
   ]
  },
  {
   "cell_type": "markdown",
   "metadata": {},
   "source": [
    "#### Problem Statement\n",
    "What features of a used car makes it more or less expensive?"
   ]
  },
  {
   "cell_type": "markdown",
   "metadata": {},
   "source": [
    "#### Goal\n",
    "Identify what features contribute to the price. (Brand, Mileage, Year, Manual/Automatic Drive) Would a BMW always be more than a GMC? Do low mileage cars always contribute to a higher price?"
   ]
  },
  {
   "cell_type": "markdown",
   "metadata": {},
   "source": [
    "### Data Understanding\n",
    "\n",
    "After considering the business understanding, we want to get familiar with our data.  Write down some steps that you would take to get to know the dataset and identify any quality issues within.  Take time to get to know the dataset and explore what information it contains and how this could be used to inform your business understanding."
   ]
  },
  {
   "cell_type": "code",
   "execution_count": 312,
   "metadata": {},
   "outputs": [],
   "source": [
    "import numpy as np\n",
    "import pandas as pd\n",
    "import seaborn as sns\n",
    "from statsmodels.tsa.arima.model import ARIMA\n",
    "import matplotlib.pyplot as plt\n",
    "from sklearn.model_selection import train_test_split\n",
    "from sklearn.preprocessing import LabelEncoder\n",
    "label_encoder = LabelEncoder()\n",
    "\n"
   ]
  },
  {
   "cell_type": "code",
   "execution_count": 313,
   "metadata": {},
   "outputs": [
    {
     "name": "stdout",
     "output_type": "stream",
     "text": [
      "<class 'pandas.core.frame.DataFrame'>\n",
      "RangeIndex: 426880 entries, 0 to 426879\n",
      "Data columns (total 18 columns):\n",
      " #   Column        Non-Null Count   Dtype  \n",
      "---  ------        --------------   -----  \n",
      " 0   id            426880 non-null  int64  \n",
      " 1   region        426880 non-null  object \n",
      " 2   price         426880 non-null  int64  \n",
      " 3   year          425675 non-null  float64\n",
      " 4   manufacturer  409234 non-null  object \n",
      " 5   model         421603 non-null  object \n",
      " 6   condition     252776 non-null  object \n",
      " 7   cylinders     249202 non-null  object \n",
      " 8   fuel          423867 non-null  object \n",
      " 9   odometer      422480 non-null  float64\n",
      " 10  title_status  418638 non-null  object \n",
      " 11  transmission  424324 non-null  object \n",
      " 12  VIN           265838 non-null  object \n",
      " 13  drive         296313 non-null  object \n",
      " 14  size          120519 non-null  object \n",
      " 15  type          334022 non-null  object \n",
      " 16  paint_color   296677 non-null  object \n",
      " 17  state         426880 non-null  object \n",
      "dtypes: float64(2), int64(2), object(14)\n",
      "memory usage: 58.6+ MB\n"
     ]
    }
   ],
   "source": [
    "car_sales = pd.read_csv('data/vehicles.csv')\n",
    "# Get information on what columns we have to work with\n",
    "car_sales.info()"
   ]
  },
  {
   "cell_type": "code",
   "execution_count": 314,
   "metadata": {},
   "outputs": [
    {
     "name": "stdout",
     "output_type": "stream",
     "text": [
      "                 id         price           year      odometer\n",
      "count  4.268800e+05  4.268800e+05  425675.000000  4.224800e+05\n",
      "mean   7.311487e+09  7.519903e+04    2011.235191  9.804333e+04\n",
      "std    4.473170e+06  1.218228e+07       9.452120  2.138815e+05\n",
      "min    7.207408e+09  0.000000e+00    1900.000000  0.000000e+00\n",
      "25%    7.308143e+09  5.900000e+03    2008.000000  3.770400e+04\n",
      "50%    7.312621e+09  1.395000e+04    2013.000000  8.554800e+04\n",
      "75%    7.315254e+09  2.648575e+04    2017.000000  1.335425e+05\n",
      "max    7.317101e+09  3.736929e+09    2022.000000  1.000000e+07\n"
     ]
    }
   ],
   "source": [
    "# Describe the data\n",
    "print(car_sales.describe())"
   ]
  },
  {
   "cell_type": "code",
   "execution_count": 315,
   "metadata": {},
   "outputs": [
    {
     "name": "stdout",
     "output_type": "stream",
     "text": [
      "size            306361\n",
      "cylinders       177678\n",
      "condition       174104\n",
      "VIN             161042\n",
      "drive           130567\n",
      "paint_color     130203\n",
      "type             92858\n",
      "manufacturer     17646\n",
      "title_status      8242\n",
      "model             5277\n",
      "odometer          4400\n",
      "fuel              3013\n",
      "transmission      2556\n",
      "year              1205\n",
      "id                   0\n",
      "region               0\n",
      "price                0\n",
      "state                0\n",
      "dtype: int64\n"
     ]
    }
   ],
   "source": [
    "# Check for columns with missing values\n",
    "null_counts = car_sales.isnull().sum().sort_values(ascending=False)\n",
    "\n",
    "print(null_counts)"
   ]
  },
  {
   "cell_type": "code",
   "execution_count": 316,
   "metadata": {},
   "outputs": [
    {
     "name": "stdout",
     "output_type": "stream",
     "text": [
      "Column: year\n",
      "Unique values: [  nan 2014. 2010. 2020. 2017. 2013. 2012. 2016. 2019. 2011. 1992. 2018.\n",
      " 2004. 2015. 2001. 2006. 1968. 2003. 2008. 2007. 2005. 1966. 2009. 1998.\n",
      " 2002. 1999. 2021. 1997. 1976. 1969. 1995. 1978. 1954. 1979. 1970. 1974.\n",
      " 1996. 1987. 2000. 1955. 1960. 1991. 1972. 1988. 1994. 1929. 1984. 1986.\n",
      " 1989. 1973. 1946. 1933. 1958. 1937. 1985. 1957. 1953. 1942. 1963. 1977.\n",
      " 1993. 1903. 1990. 1965. 1982. 1948. 1983. 1936. 1932. 1951. 1931. 1980.\n",
      " 1967. 1971. 1947. 1981. 1926. 1962. 1975. 1964. 1934. 1952. 1940. 1959.\n",
      " 1950. 1930. 1956. 1922. 1928. 2022. 1901. 1941. 1924. 1927. 1939. 1923.\n",
      " 1949. 1961. 1935. 1918. 1900. 1938. 1913. 1916. 1943. 1925. 1921. 1915.\n",
      " 1945. 1902. 1905. 1920. 1944. 1910. 1909.]\n",
      "Number of NaN: 1205\n",
      "Column: manufacturer\n",
      "Unique values: [nan 'gmc' 'chevrolet' 'toyota' 'ford' 'jeep' 'nissan' 'ram' 'mazda'\n",
      " 'cadillac' 'honda' 'dodge' 'lexus' 'jaguar' 'buick' 'chrysler' 'volvo'\n",
      " 'audi' 'infiniti' 'lincoln' 'alfa-romeo' 'subaru' 'acura' 'hyundai'\n",
      " 'mercedes-benz' 'bmw' 'mitsubishi' 'volkswagen' 'porsche' 'kia' 'rover'\n",
      " 'ferrari' 'mini' 'pontiac' 'fiat' 'tesla' 'saturn' 'mercury'\n",
      " 'harley-davidson' 'datsun' 'aston-martin' 'land rover' 'morgan']\n",
      "Number of NaN: 17646\n",
      "Column: model\n",
      "Unique values: [nan 'sierra 1500 crew cab slt' 'silverado 1500' ... 'gand wagoneer'\n",
      " '96 Suburban' 'Paige Glenbrook Touring']\n",
      "Number of NaN: 5277\n",
      "Column: condition\n",
      "Unique values: [nan 'good' 'excellent' 'fair' 'like new' 'new' 'salvage']\n",
      "Number of NaN: 174104\n",
      "Column: cylinders\n",
      "Unique values: [nan '8 cylinders' '6 cylinders' '4 cylinders' '5 cylinders' 'other'\n",
      " '3 cylinders' '10 cylinders' '12 cylinders']\n",
      "Number of NaN: 177678\n",
      "Column: fuel\n",
      "Unique values: [nan 'gas' 'other' 'diesel' 'hybrid' 'electric']\n",
      "Number of NaN: 3013\n",
      "Column: odometer\n",
      "Unique values: [    nan  57923.  71229. ... 172511.  94964.  26892.]\n",
      "Number of NaN: 4400\n",
      "Column: title_status\n",
      "Unique values: [nan 'clean' 'rebuilt' 'lien' 'salvage' 'missing' 'parts only']\n",
      "Number of NaN: 8242\n",
      "Column: transmission\n",
      "Unique values: [nan 'other' 'automatic' 'manual']\n",
      "Number of NaN: 2556\n",
      "Column: VIN\n",
      "Unique values: [nan '3GTP1VEC4EG551563' '1GCSCSE06AZ123805' ... '2HGES15535H620534'\n",
      " '1FDWF37P64EA24868' 'SAJGX2749VCOO8376']\n",
      "Number of NaN: 161042\n",
      "Column: drive\n",
      "Unique values: [nan 'rwd' '4wd' 'fwd']\n",
      "Number of NaN: 130567\n",
      "Column: size\n",
      "Unique values: [nan 'full-size' 'mid-size' 'compact' 'sub-compact']\n",
      "Number of NaN: 306361\n",
      "Column: type\n",
      "Unique values: [nan 'pickup' 'truck' 'other' 'coupe' 'SUV' 'hatchback' 'mini-van' 'sedan'\n",
      " 'offroad' 'bus' 'van' 'convertible' 'wagon']\n",
      "Number of NaN: 92858\n",
      "Column: paint_color\n",
      "Unique values: [nan 'white' 'blue' 'red' 'black' 'silver' 'grey' 'brown' 'yellow'\n",
      " 'orange' 'green' 'custom' 'purple']\n",
      "Number of NaN: 130203\n"
     ]
    }
   ],
   "source": [
    "# Loop through columns to see unique counts and NaN counts\n",
    "for column in car_sales.columns:\n",
    "    if column not in ['id', 'region', 'price', 'state']:\n",
    "        print(f'Column: {column}')\n",
    "        print(f'Unique values: {car_sales[column].unique()}')\n",
    "        print(f'Number of NaN: {car_sales[column].isna().sum()}')\n"
   ]
  },
  {
   "cell_type": "markdown",
   "metadata": {},
   "source": [
    "#### Check initial state of data for correlation"
   ]
  },
  {
   "cell_type": "code",
   "execution_count": 317,
   "metadata": {},
   "outputs": [
    {
     "data": {
      "image/png": "[encoded data removed]",
      "text/plain": [
       "<Figure size 1000x600 with 2 Axes>"
      ]
     },
     "metadata": {},
     "output_type": "display_data"
    },
    {
     "data": {
      "text/plain": [
       "<Figure size 640x480 with 0 Axes>"
      ]
     },
     "metadata": {},
     "output_type": "display_data"
    }
   ],
   "source": [
    "# Do an initial correlation matrix on numeric columns\n",
    "numeric_car_sales = car_sales.select_dtypes(include=['number'])\n",
    "# Id is not a useful column for correlation\n",
    "numeric_car_sales.drop(columns=['id'], inplace=True) \n",
    "\n",
    "plt.figure(figsize=(10,6))\n",
    "sns.heatmap(numeric_car_sales.corr(), annot=True, cmap='coolwarm')\n",
    "plt.show()\n",
    "plt.savefig('images/initial_number_corr.png')"
   ]
  },
  {
   "cell_type": "code",
   "execution_count": 343,
   "metadata": {},
   "outputs": [
    {
     "data": {
      "image/png": "[encoded data removed]",
      "text/plain": [
       "<Figure size 1200x600 with 1 Axes>"
      ]
     },
     "metadata": {},
     "output_type": "display_data"
    },
    {
     "data": {
      "text/plain": [
       "<Figure size 640x480 with 0 Axes>"
      ]
     },
     "metadata": {},
     "output_type": "display_data"
    }
   ],
   "source": [
    "plt.figure(figsize=(12, 6))\n",
    "sns.countplot(y='manufacturer', data=car_sales, order=car_sales['manufacturer'].value_counts().index)\n",
    "plt.title('Count of Cars by Manufacturer')\n",
    "plt.xlabel('Count')\n",
    "plt.ylabel('Manufacturer')\n",
    "plt.show()\n",
    "plt.savefig('images/count_by_manufacturer.png')"
   ]
  },
  {
   "cell_type": "code",
   "execution_count": 355,
   "metadata": {},
   "outputs": [
    {
     "data": {
      "image/png": "[encoded data removed]",
      "text/plain": [
       "<Figure size 1000x600 with 1 Axes>"
      ]
     },
     "metadata": {},
     "output_type": "display_data"
    },
    {
     "data": {
      "text/plain": [
       "<Figure size 640x480 with 0 Axes>"
      ]
     },
     "metadata": {},
     "output_type": "display_data"
    }
   ],
   "source": [
    "# Create the heatmap\n",
    "plt.figure(figsize=(10, 6))\n",
    "sns.boxplot(data=car_sales, x='price', y='type', orient='h')\n",
    "plt.title(' Car Prices Grouped by Car Type')\n",
    "plt.xlabel('Count')\n",
    "plt.ylabel('Car Type')\n",
    "plt.show()\n",
    "plt.savefig('images/car_prices_type.png')"
   ]
  },
  {
   "cell_type": "markdown",
   "metadata": {},
   "source": [
    "### Data Preparation\n",
    "\n",
    "After our initial exploration and fine-tuning of the business understanding, it is time to construct our final dataset prior to modeling.  Here, we want to make sure to handle any integrity issues and cleaning, the engineering of new features, any transformations that we believe should happen (scaling, logarithms, normalization, etc.), and general preparation for modeling with `sklearn`. "
   ]
  },
  {
   "cell_type": "markdown",
   "metadata": {},
   "source": [
    "#### Remove irrelavant data"
   ]
  },
  {
   "cell_type": "code",
   "execution_count": 318,
   "metadata": {},
   "outputs": [],
   "source": [
    "car_sales.drop(columns=['id'], inplace=True)  # Drop the id column\n",
    "car_sales.drop_duplicates(inplace=True)  # Remove duplicates"
   ]
  },
  {
   "cell_type": "code",
   "execution_count": 319,
   "metadata": {},
   "outputs": [],
   "source": [
    "# No point in keeping records that don't have a price\n",
    "car_sales = car_sales[car_sales['price'] != 0]"
   ]
  },
  {
   "cell_type": "markdown",
   "metadata": {},
   "source": [
    "#### Remove unneeded columns"
   ]
  },
  {
   "cell_type": "code",
   "execution_count": 320,
   "metadata": {},
   "outputs": [],
   "source": [
    "# Drop unnecessary columns with low data quality\n",
    "# Region is redundant by state\n",
    "car_sales.drop(columns=['size', 'VIN', 'region', 'cylinders', 'condition'], inplace=True)"
   ]
  },
  {
   "cell_type": "markdown",
   "metadata": {},
   "source": [
    "#### Clean up type of car"
   ]
  },
  {
   "cell_type": "code",
   "execution_count": 321,
   "metadata": {},
   "outputs": [],
   "source": [
    "# See the list of models with a type missing\n",
    "# Add a type 'SUV' for models with a value of 'cherokee', 'rav4'\n",
    "car_sales.loc[car_sales['model'] == 'cherokee', 'type'] = 'SUV'\n",
    "car_sales.loc[car_sales['model'] == 'rav4', 'type'] = 'SUV'\n",
    "\n",
    "# Add a type 'wagon' for models with a value of 'taurus wagon lx'\n",
    "car_sales.loc[car_sales['model'] == 'taurus wagon lx', 'type'] = 'wagon'\n",
    "\n",
    "# Add a type 'sedan' for models with a value of 'camry', 'camry xle', 'grand cherokee', 'grand prix', 'corolla'\n",
    "car_sales.loc[car_sales['model'] == 'focus', 'type'] = 'sedan'\n",
    "\n",
    "# Add a mini-van type for models with a value of 'windstar'\n",
    "car_sales.loc[car_sales['model'] == 'windstar', 'type'] = 'mini-van'\n",
    "\n",
    "# Add a type of 'pickup' for models with a value of 'F-350' and '1500 z71'\n",
    "car_sales.loc[car_sales['model'] == 'F-350', 'type'] = 'pickup'\n",
    "car_sales.loc[car_sales['model'] == '1500 z71', 'type'] = 'pickup'\n",
    "car_sales.loc[car_sales['model'] == '2500 ls', 'type'] = 'pickup'\n",
    "car_sales.loc[car_sales['model'] == 'f250 crew cab diesel', 'type'] = 'pickup'\n",
    "car_sales.loc[car_sales['model'] == 'ranger rmt', 'type'] = 'pickup'\n",
    "car_sales.loc[car_sales['model'] == 'apache 10', 'type'] = 'pickup'"
   ]
  },
  {
   "cell_type": "markdown",
   "metadata": {},
   "source": [
    "#### Take care of some missing manufacturers"
   ]
  },
  {
   "cell_type": "code",
   "execution_count": 322,
   "metadata": {},
   "outputs": [],
   "source": [
    "# Fill in the missing manufacturer values with based on the model of the car\n",
    "# Update the manufacturer to chevrolet where the model is '96 Suburban'\n",
    "car_sales.loc[car_sales['model'] == '96 Suburban', 'manufacturer'] = 'chevrolet'"
   ]
  },
  {
   "cell_type": "markdown",
   "metadata": {},
   "source": [
    "#### Fill empties with \"Unknown\" or Median Values"
   ]
  },
  {
   "cell_type": "code",
   "execution_count": 323,
   "metadata": {},
   "outputs": [],
   "source": [
    "# Clean up the Year and Odometer by using the median values for the missing values\n",
    "car_sales['year'] = car_sales['year'].fillna(car_sales['year'].median())\n",
    "car_sales['odometer'] = car_sales['odometer'].fillna(car_sales['odometer'].median())\n",
    "\n",
    "# Fill categorical missing values with \"Unknown\"\n",
    "categorical_cols = ['manufacturer', 'model', 'fuel', 'title_status', 'transmission', 'type', 'state', 'drive', 'paint_color']\n",
    "for col in categorical_cols:\n",
    "    car_sales[col] = car_sales[col].fillna(\"Unknown\")"
   ]
  },
  {
   "cell_type": "markdown",
   "metadata": {},
   "source": [
    "### Prep columns for numeric values that we'll keep"
   ]
  },
  {
   "cell_type": "code",
   "execution_count": 324,
   "metadata": {},
   "outputs": [
    {
     "name": "stderr",
     "output_type": "stream",
     "text": [
      "/var/folders/j0/1kwkdfld15s_4wkkywz5j31h0000gn/T/ipykernel_22713/3944685049.py:6: UserWarning: Boolean Series key will be reindexed to match DataFrame index.\n",
      "  sales_encoded = sales_encoded[car_sales[col].isin(top_20)]\n",
      "/var/folders/j0/1kwkdfld15s_4wkkywz5j31h0000gn/T/ipykernel_22713/3944685049.py:6: UserWarning: Boolean Series key will be reindexed to match DataFrame index.\n",
      "  sales_encoded = sales_encoded[car_sales[col].isin(top_20)]\n",
      "/var/folders/j0/1kwkdfld15s_4wkkywz5j31h0000gn/T/ipykernel_22713/3944685049.py:6: UserWarning: Boolean Series key will be reindexed to match DataFrame index.\n",
      "  sales_encoded = sales_encoded[car_sales[col].isin(top_20)]\n"
     ]
    }
   ],
   "source": [
    "sales_encoded = car_sales.copy()\n",
    "\n",
    "# Remove any records of the categorical columns that are not in the top 20\n",
    "for col in ['model', 'manufacturer', 'year', 'state']:\n",
    "    top_20 = sales_encoded[col].value_counts().head(20).index\n",
    "    sales_encoded = sales_encoded[car_sales[col].isin(top_20)]\n",
    "\n",
    "# One-Hot Encode only low-cardinality categorical features\n",
    "sales_encoded = pd.get_dummies(sales_encoded, drop_first=True)"
   ]
  },
  {
   "cell_type": "code",
   "execution_count": 325,
   "metadata": {},
   "outputs": [],
   "source": [
    "# Add age column\n",
    "sales_encoded['car_age'] = 2024 - sales_encoded['year']"
   ]
  },
  {
   "cell_type": "code",
   "execution_count": 326,
   "metadata": {},
   "outputs": [],
   "source": [
    "# Compute the 10th and 90th percentile\n",
    "lower_bound = sales_encoded['price'].quantile(0.10)  # 10th percentile\n",
    "upper_bound = sales_encoded['price'].quantile(0.90)  # 90th percentile\n",
    "\n",
    "# Filter data within the range\n",
    "sales_encoded = sales_encoded[(sales_encoded['price'] >= lower_bound) & (sales_encoded['price'] <= upper_bound)]\n"
   ]
  },
  {
   "cell_type": "code",
   "execution_count": 327,
   "metadata": {},
   "outputs": [
    {
     "name": "stdout",
     "output_type": "stream",
     "text": [
      "price                 1.000000\n",
      "year                  0.568652\n",
      "type_pickup           0.228837\n",
      "type_truck            0.189016\n",
      "manufacturer_ram      0.188419\n",
      "                        ...   \n",
      "manufacturer_honda   -0.210950\n",
      "drive_fwd            -0.254931\n",
      "type_sedan           -0.267504\n",
      "odometer             -0.271566\n",
      "car_age              -0.568652\n",
      "Name: price, Length: 103, dtype: float64\n",
      "Index(['manufacturer_bmw', 'manufacturer_buick', 'manufacturer_cadillac',\n",
      "       'manufacturer_chevrolet', 'manufacturer_chrysler', 'manufacturer_dodge',\n",
      "       'manufacturer_ford', 'manufacturer_gmc', 'manufacturer_jeep',\n",
      "       'manufacturer_lexus', 'manufacturer_lincoln',\n",
      "       'manufacturer_mercedes-benz', 'manufacturer_rover',\n",
      "       'manufacturer_volkswagen', 'manufacturer_volvo', 'model_Unknown',\n",
      "       'model_cr-v', 'model_equinox', 'model_explorer', 'model_grand cherokee',\n",
      "       'model_mustang', 'model_silverado', 'fuel_electric', 'fuel_hybrid',\n",
      "       'fuel_other', 'title_status_clean', 'title_status_lien',\n",
      "       'title_status_missing', 'title_status_parts only',\n",
      "       'title_status_rebuilt', 'title_status_salvage',\n",
      "       'transmission_automatic', 'transmission_manual', 'transmission_other',\n",
      "       'drive_rwd', 'type_bus', 'type_convertible', 'type_coupe',\n",
      "       'type_hatchback', 'type_mini-van', 'type_offroad', 'type_other',\n",
      "       'type_van', 'type_wagon', 'paint_color_black', 'paint_color_blue',\n",
      "       'paint_color_brown', 'paint_color_custom', 'paint_color_green',\n",
      "       'paint_color_grey', 'paint_color_orange', 'paint_color_purple',\n",
      "       'paint_color_red', 'paint_color_silver', 'paint_color_white',\n",
      "       'paint_color_yellow', 'state_co', 'state_fl', 'state_ia', 'state_id',\n",
      "       'state_il', 'state_ma', 'state_mi', 'state_mn', 'state_nc', 'state_nj',\n",
      "       'state_ny', 'state_oh', 'state_or', 'state_pa', 'state_tn', 'state_va',\n",
      "       'state_wa', 'state_wi'],\n",
      "      dtype='object')\n"
     ]
    }
   ],
   "source": [
    "correlation_matrix = sales_encoded.corr()\n",
    "print(correlation_matrix['price'].sort_values(ascending=False))\n",
    "\n",
    "low_cardinality_cols = correlation_matrix[(correlation_matrix['price'] < 0.1) & (correlation_matrix['price'] > -0.1)].index\n",
    "print(low_cardinality_cols)\n",
    "# Drop correlations that have a correlation of less than 0.1 and greater than -0.1\n",
    "sales_encoded.drop(columns=low_cardinality_cols, inplace=True)"
   ]
  },
  {
   "cell_type": "markdown",
   "metadata": {},
   "source": [
    "### Modeling\n",
    "\n",
    "With your (almost?) final dataset in hand, it is now time to build some models.  Here, you should build a number of different regression models with the price as the target.  In building your models, you should explore different parameters and be sure to cross-validate your findings."
   ]
  },
  {
   "cell_type": "code",
   "execution_count": 328,
   "metadata": {},
   "outputs": [],
   "source": [
    "from sklearn.pipeline import Pipeline\n",
    "from sklearn.preprocessing import StandardScaler, PolynomialFeatures\n",
    "from sklearn.linear_model import Ridge, Lasso, LinearRegression, LassoCV\n",
    "from sklearn.metrics import mean_squared_error, r2_score\n",
    "from sklearn.model_selection import KFold, cross_val_score"
   ]
  },
  {
   "cell_type": "markdown",
   "metadata": {},
   "source": [
    "#### Create test and train splits"
   ]
  },
  {
   "cell_type": "code",
   "execution_count": 329,
   "metadata": {},
   "outputs": [],
   "source": [
    "#generate train/test data for car sales\n",
    "sales_X = sales_encoded.drop(['price'], axis = 1)\n",
    "sales_y = sales_encoded['price']\n",
    "sales_X_train, sales_X_test, sales_y_train, sales_y_test = train_test_split(sales_X, sales_y, \n",
    "                                                                       test_size = 0.3,\n",
    "                                                                       random_state = 42)"
   ]
  },
  {
   "cell_type": "code",
   "execution_count": 330,
   "metadata": {},
   "outputs": [
    {
     "name": "stdout",
     "output_type": "stream",
     "text": [
      "MSE for each fold: [17742046.02960292 60999429.45688791 21421622.89494018 17985683.37064445\n",
      " 17277555.61268777]\n",
      "Mean MSE: 27085267.472952645\n"
     ]
    }
   ],
   "source": [
    "# Define pipeline with preprocessing (PolynomialFeatures + StandardScaler) and model\n",
    "pipeline = Pipeline([\n",
    "    ('poly', PolynomialFeatures(degree=2, include_bias=False)),  # Create polynomial features\n",
    "    ('scaler', StandardScaler()),  # Standardize features\n",
    "    ('model', LinearRegression())  # Linear Regression model\n",
    "])\n",
    "\n",
    "# Set up K-Fold Cross-Validation\n",
    "kf = KFold(n_splits=5, shuffle=True, random_state=42)\n",
    "\n",
    "# Perform Cross-Validation using the pipeline\n",
    "mse_scores = -cross_val_score(pipeline, sales_X, sales_y, cv=kf, scoring='neg_mean_squared_error')\n",
    "\n",
    "# Print results\n",
    "print(\"MSE for each fold:\", mse_scores)\n",
    "print(\"Mean MSE:\", np.mean(mse_scores))"
   ]
  },
  {
   "cell_type": "markdown",
   "metadata": {},
   "source": [
    "#### Linear Regression Pipeline"
   ]
  },
  {
   "cell_type": "code",
   "execution_count": 331,
   "metadata": {},
   "outputs": [
    {
     "name": "stdout",
     "output_type": "stream",
     "text": [
      "🔹 Linear Regression - MSE: 18013801.19, R²: 0.7806\n"
     ]
    }
   ],
   "source": [
    "lin_reg = Pipeline([\n",
    "    ('poly', PolynomialFeatures(degree=2, include_bias=False)),  # Create polynomial features\n",
    "    ('scaler', StandardScaler()),\n",
    "    ('reg', LinearRegression())\n",
    "])\n",
    "\n",
    "lin_reg.fit(sales_X_train, sales_y_train)\n",
    "y_pred = lin_reg.predict(sales_X_test)\n",
    "\n",
    "# Evaluate Model\n",
    "mse = mean_squared_error(sales_y_test, y_pred)\n",
    "r2 = r2_score(sales_y_test, y_pred)\n",
    "\n",
    "print(f\"🔹 Linear Regression - MSE: {mse:.2f}, R²: {r2:.4f}\")\n"
   ]
  },
  {
   "cell_type": "code",
   "execution_count": 332,
   "metadata": {},
   "outputs": [
    {
     "name": "stderr",
     "output_type": "stream",
     "text": [
      "/Users/ethanflory/Documents/Repositiories/BerkeleyClass/venv/lib/python3.13/site-packages/sklearn/linear_model/_coordinate_descent.py:681: ConvergenceWarning: Objective did not converge. You might want to increase the number of iterations. Duality gap: 111532700.02716064, tolerance: 110132455.47664769\n",
      "  model = cd_fast.enet_coordinate_descent_gram(\n",
      "/Users/ethanflory/Documents/Repositiories/BerkeleyClass/venv/lib/python3.13/site-packages/sklearn/linear_model/_coordinate_descent.py:681: ConvergenceWarning: Objective did not converge. You might want to increase the number of iterations. Duality gap: 113958262.30471802, tolerance: 110132455.47664769\n",
      "  model = cd_fast.enet_coordinate_descent_gram(\n",
      "/Users/ethanflory/Documents/Repositiories/BerkeleyClass/venv/lib/python3.13/site-packages/sklearn/linear_model/_coordinate_descent.py:681: ConvergenceWarning: Objective did not converge. You might want to increase the number of iterations. Duality gap: 120323258.75820923, tolerance: 110132455.47664769\n",
      "  model = cd_fast.enet_coordinate_descent_gram(\n",
      "/Users/ethanflory/Documents/Repositiories/BerkeleyClass/venv/lib/python3.13/site-packages/sklearn/linear_model/_coordinate_descent.py:681: ConvergenceWarning: Objective did not converge. You might want to increase the number of iterations. Duality gap: 125392834.59680176, tolerance: 110132455.47664769\n",
      "  model = cd_fast.enet_coordinate_descent_gram(\n",
      "/Users/ethanflory/Documents/Repositiories/BerkeleyClass/venv/lib/python3.13/site-packages/sklearn/linear_model/_coordinate_descent.py:681: ConvergenceWarning: Objective did not converge. You might want to increase the number of iterations. Duality gap: 126738160.6887207, tolerance: 110132455.47664769\n",
      "  model = cd_fast.enet_coordinate_descent_gram(\n",
      "/Users/ethanflory/Documents/Repositiories/BerkeleyClass/venv/lib/python3.13/site-packages/sklearn/linear_model/_coordinate_descent.py:681: ConvergenceWarning: Objective did not converge. You might want to increase the number of iterations. Duality gap: 128062102.06484985, tolerance: 110132455.47664769\n",
      "  model = cd_fast.enet_coordinate_descent_gram(\n",
      "/Users/ethanflory/Documents/Repositiories/BerkeleyClass/venv/lib/python3.13/site-packages/sklearn/linear_model/_coordinate_descent.py:681: ConvergenceWarning: Objective did not converge. You might want to increase the number of iterations. Duality gap: 132862467.06555176, tolerance: 110132455.47664769\n",
      "  model = cd_fast.enet_coordinate_descent_gram(\n",
      "/Users/ethanflory/Documents/Repositiories/BerkeleyClass/venv/lib/python3.13/site-packages/sklearn/linear_model/_coordinate_descent.py:681: ConvergenceWarning: Objective did not converge. You might want to increase the number of iterations. Duality gap: 139324555.1916809, tolerance: 110132455.47664769\n",
      "  model = cd_fast.enet_coordinate_descent_gram(\n",
      "/Users/ethanflory/Documents/Repositiories/BerkeleyClass/venv/lib/python3.13/site-packages/sklearn/linear_model/_coordinate_descent.py:681: ConvergenceWarning: Objective did not converge. You might want to increase the number of iterations. Duality gap: 122833114.92797852, tolerance: 109815277.37248828\n",
      "  model = cd_fast.enet_coordinate_descent_gram(\n"
     ]
    },
    {
     "name": "stdout",
     "output_type": "stream",
     "text": [
      "🔹 LassoCV + Polynomial (degree=2) - MSE: 19296438.16, R²: 0.7650\n"
     ]
    },
    {
     "name": "stderr",
     "output_type": "stream",
     "text": [
      "/Users/ethanflory/Documents/Repositiories/BerkeleyClass/venv/lib/python3.13/site-packages/sklearn/linear_model/_coordinate_descent.py:695: ConvergenceWarning: Objective did not converge. You might want to increase the number of iterations, check the scale of the features or consider increasing regularisation. Duality gap: 5.201e+08, tolerance: 1.378e+08\n",
      "  model = cd_fast.enet_coordinate_descent(\n"
     ]
    }
   ],
   "source": [
    "lasso_poly = Pipeline([\n",
    "    ('poly', PolynomialFeatures(degree=2, include_bias=False)),  # Capture non-linearity\n",
    "    ('scaler', StandardScaler()),  # Scale data\n",
    "    ('lasso', LassoCV(cv=5))  # Auto-select best alpha\n",
    "])\n",
    "\n",
    "# Fit the model\n",
    "lasso_poly.fit(sales_X_train, sales_y_train)\n",
    "\n",
    "# Predictions\n",
    "y_pred = lasso_poly.predict(sales_X_test)\n",
    "\n",
    "# Evaluate\n",
    "mse = mean_squared_error(sales_y_test, y_pred)\n",
    "r2 = r2_score(sales_y_test, y_pred)\n",
    "\n",
    "print(f\"🔹 LassoCV + Polynomial (degree=2) - MSE: {mse:.2f}, R²: {r2:.4f}\")"
   ]
  },
  {
   "cell_type": "markdown",
   "metadata": {},
   "source": [
    "#### Try a smaller set."
   ]
  },
  {
   "cell_type": "code",
   "execution_count": 334,
   "metadata": {},
   "outputs": [],
   "source": [
    "sales_X_small = sales_encoded[['year', 'odometer']]\n",
    "sales_y_small = sales_encoded['price']\n",
    "sales_X_train_small, sales_X_test_small, sales_y_train_small, sales_y_test_small = train_test_split(sales_X_small, sales_y_small, \n",
    "                                                                       test_size = 0.3,\n",
    "                                                                       random_state = 42)"
   ]
  },
  {
   "cell_type": "code",
   "execution_count": 335,
   "metadata": {},
   "outputs": [
    {
     "name": "stdout",
     "output_type": "stream",
     "text": [
      "🔹 Linear Regression - MSE: 53572261.68, R²: 0.3476\n"
     ]
    }
   ],
   "source": [
    "lin_reg = Pipeline([\n",
    "    ('scaler', StandardScaler()),\n",
    "    ('reg', LinearRegression())\n",
    "])\n",
    "\n",
    "lin_reg.fit(sales_X_train_small, sales_y_train_small)\n",
    "y_pred_small = lin_reg.predict(sales_X_test_small)\n",
    "\n",
    "# Evaluate Model\n",
    "mse_small = mean_squared_error(sales_y_test_small, y_pred_small)\n",
    "r2_small = r2_score(sales_y_test_small, y_pred_small)\n",
    "\n",
    "print(f\"🔹 Linear Regression - MSE: {mse_small:.2f}, R²: {r2_small:.4f}\")"
   ]
  },
  {
   "cell_type": "markdown",
   "metadata": {},
   "source": [
    "#### Try Ridge and Lasso"
   ]
  },
  {
   "cell_type": "code",
   "execution_count": 339,
   "metadata": {},
   "outputs": [
    {
     "name": "stdout",
     "output_type": "stream",
     "text": [
      "🔹 Ridge Regression - MSE: 23097996.14, R²: 0.7187\n",
      "🔹 Lasso Regression - MSE: 23103019.90, R²: 0.7186\n"
     ]
    }
   ],
   "source": [
    "ridge = Ridge(alpha=2)\n",
    "ridge.fit(sales_X_train, sales_y_train)\n",
    "ridge_pred = ridge.predict(sales_X_test)\n",
    "\n",
    "lasso = Lasso(alpha=.1)\n",
    "lasso.fit(sales_X_train, sales_y_train)\n",
    "lasso_pred = lasso.predict(sales_X_test)\n",
    "\n",
    "\n",
    "mse_ridge = mean_squared_error(sales_y_test, ridge_pred)\n",
    "r2_ridge = r2_score(sales_y_test, ridge_pred)\n",
    "print(f\"🔹 Ridge Regression - MSE: {mse_ridge:.2f}, R²: {r2_ridge:.4f}\")\n",
    "\n",
    "mse_lasso = mean_squared_error(sales_y_test, lasso_pred)\n",
    "r2_lasso = r2_score(sales_y_test, lasso_pred)\n",
    "print(f\"🔹 Lasso Regression - MSE: {mse_lasso:.2f}, R²: {r2_lasso:.4f}\")"
   ]
  },
  {
   "cell_type": "markdown",
   "metadata": {},
   "source": [
    "### Evaluation\n",
    "\n",
    "With some modeling accomplished, we aim to reflect on what we identify as a high-quality model and what we are able to learn from this.  We should review our business objective and explore how well we can provide meaningful insight into drivers of used car prices.  Your goal now is to distill your findings and determine whether the earlier phases need revisitation and adjustment or if you have information of value to bring back to your client."
   ]
  },
  {
   "cell_type": "code",
   "execution_count": null,
   "metadata": {},
   "outputs": [],
   "source": []
  },
  {
   "cell_type": "code",
   "execution_count": null,
   "metadata": {},
   "outputs": [],
   "source": []
  },
  {
   "cell_type": "code",
   "execution_count": null,
   "metadata": {},
   "outputs": [],
   "source": []
  },
  {
   "cell_type": "code",
   "execution_count": null,
   "metadata": {},
   "outputs": [],
   "source": []
  },
  {
   "cell_type": "code",
   "execution_count": null,
   "metadata": {},
   "outputs": [],
   "source": []
  },
  {
   "cell_type": "code",
   "execution_count": null,
   "metadata": {},
   "outputs": [],
   "source": []
  },
  {
   "cell_type": "markdown",
   "metadata": {},
   "source": [
    "### Deployment\n",
    "\n",
    "Now that we've settled on our models and findings, it is time to deliver the information to the client.  You should organize your work as a basic report that details your primary findings.  Keep in mind that your audience is a group of used car dealers interested in fine-tuning their inventory."
   ]
  },
  {
   "cell_type": "code",
   "execution_count": null,
   "metadata": {},
   "outputs": [],
   "source": []
  },
  {
   "cell_type": "code",
   "execution_count": null,
   "metadata": {},
   "outputs": [],
   "source": []
  },
  {
   "cell_type": "code",
   "execution_count": null,
   "metadata": {},
   "outputs": [],
   "source": []
  },
  {
   "cell_type": "code",
   "execution_count": null,
   "metadata": {},
   "outputs": [],
   "source": []
  },
  {
   "cell_type": "code",
   "execution_count": null,
   "metadata": {},
   "outputs": [],
   "source": []
  },
  {
   "cell_type": "code",
   "execution_count": null,
   "metadata": {},
   "outputs": [],
   "source": []
  },
  {
   "cell_type": "code",
   "execution_count": null,
   "metadata": {},
   "outputs": [],
   "source": []
  }
 ],
 "metadata": {
  "kernelspec": {
   "display_name": "venv",
   "language": "python",
   "name": "python3"
  },
  "language_info": {
   "codemirror_mode": {
    "name": "ipython",
    "version": 3
   },
   "file_extension": ".py",
   "mimetype": "text/x-python",
   "name": "python",
   "nbconvert_exporter": "python",
   "pygments_lexer": "ipython3",
   "version": "3.13.0"
  },
  "widgets": {
   "application/vnd.jupyter.widget-state+json": {
    "state": {},
    "version_major": 2,
    "version_minor": 0
   }
  }
 },
 "nbformat": 4,
 "nbformat_minor": 4
}
